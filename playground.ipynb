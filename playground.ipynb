{
 "cells": [
  {
   "cell_type": "code",
   "execution_count": null,
   "metadata": {},
   "outputs": [],
   "source": [
    "import numpy as np\n",
    "import matplotlib.pyplot as plt\n",
    "import seaborn as sns\n",
    "\n",
    "sns.set(style=\"dark\")\n",
    "plt.style.use(\"dark_background\")\n",
    "sns.color_palette(\"husl\", 8)\n",
    "\n",
    "def undirected_graph_synapse_count(n):\n",
    "    return n*(n-1)/2\n",
    "\n",
    "def directed_graph_synapse_count(n):\n",
    "    return n*(n-1)\n",
    "\n",
    "def fully_connected_synapse_count(input_dim, hidden_dims, output_dim):\n",
    "    synapse_count = 0\n",
    "    synapse_count += input_dim*hidden_dims[0]\n",
    "    for i in range(len(hidden_dims)-1):\n",
    "        synapse_count += hidden_dims[i]*hidden_dims[i+1]\n",
    "    synapse_count += hidden_dims[-1]*output_dim\n",
    "    return synapse_count\n"
   ]
  },
  {
   "cell_type": "code",
   "execution_count": null,
   "metadata": {},
   "outputs": [],
   "source": [
    "num_samples = 1000\n",
    "n = 130_000\n",
    "\n",
    "ns = np.linspace(0, n, num_samples)\n",
    "undir_synapses = undirected_graph_synapse_count(ns)\n",
    "dir_synapses = directed_graph_synapse_count(ns)\n",
    "\n",
    "nn=[]\n",
    "for tmp_n in ns:\n",
    "    input_dim = int(tmp_n*0.05)\n",
    "    hidden_dims = [tmp_n*0.2, tmp_n*0.15, tmp_n*0.1, tmp_n*0.1, tmp_n*0.15, tmp_n*0.2]\n",
    "    output_dim = int(tmp_n*0.05)\n",
    "    nn.append(fully_connected_synapse_count(input_dim, hidden_dims, output_dim))\n",
    "\n",
    "plt.plot(ns, nn, label=f'Autoencoder neural network', color='blueviolet')\n",
    "\n",
    "\n",
    "\n",
    "plt.plot(ns, undir_synapses, label='FC undirected connectome', color='orange')\n",
    "plt.plot(ns, dir_synapses, label='FC directed connectome', color='limegreen')\n",
    "plt.scatter(130_000, 5*(10**7), label='Fruit Fly Connectome (codex)', color='red', marker='x')\n",
    "plt.annotate('50,000,000', (130_000 - 10000, 5*(10**8)), color='red', fontsize=8)\n",
    "\n",
    "# plt.ylim(bottom=0, top=10**8)\n",
    "# plt.grid()\n",
    "plt.yscale('linear')\n",
    "plt.xlabel('# neurons')\n",
    "plt.ylabel('# synapses')\n",
    "plt.title('Maximal Synapse Count in Connectome')\n",
    "plt.ticklabel_format(style='sci', axis='y', useMathText=True)\n",
    "plt.legend()\n",
    "plt.show()\n"
   ]
  }
 ],
 "metadata": {
  "kernelspec": {
   "display_name": "base",
   "language": "python",
   "name": "python3"
  },
  "language_info": {
   "codemirror_mode": {
    "name": "ipython",
    "version": 3
   },
   "file_extension": ".py",
   "mimetype": "text/x-python",
   "name": "python",
   "nbconvert_exporter": "python",
   "pygments_lexer": "ipython3",
   "version": "3.10.9"
  },
  "orig_nbformat": 4
 },
 "nbformat": 4,
 "nbformat_minor": 2
}
